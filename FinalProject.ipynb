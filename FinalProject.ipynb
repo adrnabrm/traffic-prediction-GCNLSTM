{
  "nbformat": 4,
  "nbformat_minor": 0,
  "metadata": {
    "colab": {
      "provenance": [],
      "gpuType": "T4",
      "authorship_tag": "ABX9TyNeUY9xZp881gtA7+CZ3B8E",
      "include_colab_link": true
    },
    "kernelspec": {
      "name": "python3",
      "display_name": "Python 3"
    },
    "language_info": {
      "name": "python"
    },
    "accelerator": "GPU"
  },
  "cells": [
    {
      "cell_type": "markdown",
      "metadata": {
        "id": "view-in-github",
        "colab_type": "text"
      },
      "source": [
        "<a href=\"https://colab.research.google.com/github/adrnabrm/traffic-prediction-GCNLSTM/blob/main/FinalProject.ipynb\" target=\"_parent\"><img src=\"https://colab.research.google.com/assets/colab-badge.svg\" alt=\"Open In Colab\"/></a>"
      ]
    },
    {
      "cell_type": "markdown",
      "source": [
        "# Traffic forecasting using GCN-LSTM\n",
        "Adrian Abraham <br>\n",
        "CECS 456"
      ],
      "metadata": {
        "id": "az4L-c2hUdrv"
      }
    },
    {
      "cell_type": "markdown",
      "source": [
        "## Installing necessary libraries"
      ],
      "metadata": {
        "id": "Bhr6dc4yyR0D"
      }
    },
    {
      "cell_type": "code",
      "source": [
        "!pip install torch-geometric tqdm"
      ],
      "metadata": {
        "colab": {
          "base_uri": "https://localhost:8080/"
        },
        "id": "Ms-Dh3zZThnp",
        "outputId": "8529a568-1e42-4d35-bf38-705417f977f2"
      },
      "execution_count": null,
      "outputs": [
        {
          "output_type": "stream",
          "name": "stdout",
          "text": [
            "Collecting torch-geometric\n",
            "  Downloading torch_geometric-2.6.1-py3-none-any.whl.metadata (63 kB)\n",
            "\u001b[?25l     \u001b[90m━━━━━━━━━━━━━━━━━━━━━━━━━━━━━━━━━━━━━━━━\u001b[0m \u001b[32m0.0/63.1 kB\u001b[0m \u001b[31m?\u001b[0m eta \u001b[36m-:--:--\u001b[0m\r\u001b[2K     \u001b[90m━━━━━━━━━━━━━━━━━━━━━━━━━━━━━━━━━━━━━━━━\u001b[0m \u001b[32m63.1/63.1 kB\u001b[0m \u001b[31m2.9 MB/s\u001b[0m eta \u001b[36m0:00:00\u001b[0m\n",
            "\u001b[?25hRequirement already satisfied: tqdm in /usr/local/lib/python3.11/dist-packages (4.67.1)\n",
            "Requirement already satisfied: aiohttp in /usr/local/lib/python3.11/dist-packages (from torch-geometric) (3.11.15)\n",
            "Requirement already satisfied: fsspec in /usr/local/lib/python3.11/dist-packages (from torch-geometric) (2025.3.2)\n",
            "Requirement already satisfied: jinja2 in /usr/local/lib/python3.11/dist-packages (from torch-geometric) (3.1.6)\n",
            "Requirement already satisfied: numpy in /usr/local/lib/python3.11/dist-packages (from torch-geometric) (2.0.2)\n",
            "Requirement already satisfied: psutil>=5.8.0 in /usr/local/lib/python3.11/dist-packages (from torch-geometric) (5.9.5)\n",
            "Requirement already satisfied: pyparsing in /usr/local/lib/python3.11/dist-packages (from torch-geometric) (3.2.3)\n",
            "Requirement already satisfied: requests in /usr/local/lib/python3.11/dist-packages (from torch-geometric) (2.32.3)\n",
            "Requirement already satisfied: aiohappyeyeballs>=2.3.0 in /usr/local/lib/python3.11/dist-packages (from aiohttp->torch-geometric) (2.6.1)\n",
            "Requirement already satisfied: aiosignal>=1.1.2 in /usr/local/lib/python3.11/dist-packages (from aiohttp->torch-geometric) (1.3.2)\n",
            "Requirement already satisfied: attrs>=17.3.0 in /usr/local/lib/python3.11/dist-packages (from aiohttp->torch-geometric) (25.3.0)\n",
            "Requirement already satisfied: frozenlist>=1.1.1 in /usr/local/lib/python3.11/dist-packages (from aiohttp->torch-geometric) (1.6.0)\n",
            "Requirement already satisfied: multidict<7.0,>=4.5 in /usr/local/lib/python3.11/dist-packages (from aiohttp->torch-geometric) (6.4.3)\n",
            "Requirement already satisfied: propcache>=0.2.0 in /usr/local/lib/python3.11/dist-packages (from aiohttp->torch-geometric) (0.3.1)\n",
            "Requirement already satisfied: yarl<2.0,>=1.17.0 in /usr/local/lib/python3.11/dist-packages (from aiohttp->torch-geometric) (1.20.0)\n",
            "Requirement already satisfied: MarkupSafe>=2.0 in /usr/local/lib/python3.11/dist-packages (from jinja2->torch-geometric) (3.0.2)\n",
            "Requirement already satisfied: charset-normalizer<4,>=2 in /usr/local/lib/python3.11/dist-packages (from requests->torch-geometric) (3.4.1)\n",
            "Requirement already satisfied: idna<4,>=2.5 in /usr/local/lib/python3.11/dist-packages (from requests->torch-geometric) (3.10)\n",
            "Requirement already satisfied: urllib3<3,>=1.21.1 in /usr/local/lib/python3.11/dist-packages (from requests->torch-geometric) (2.4.0)\n",
            "Requirement already satisfied: certifi>=2017.4.17 in /usr/local/lib/python3.11/dist-packages (from requests->torch-geometric) (2025.4.26)\n",
            "Downloading torch_geometric-2.6.1-py3-none-any.whl (1.1 MB)\n",
            "\u001b[2K   \u001b[90m━━━━━━━━━━━━━━━━━━━━━━━━━━━━━━━━━━━━━━━━\u001b[0m \u001b[32m1.1/1.1 MB\u001b[0m \u001b[31m27.0 MB/s\u001b[0m eta \u001b[36m0:00:00\u001b[0m\n",
            "\u001b[?25hInstalling collected packages: torch-geometric\n",
            "Successfully installed torch-geometric-2.6.1\n"
          ]
        }
      ]
    },
    {
      "cell_type": "markdown",
      "source": [
        "# Importing data\n",
        "We use the METR-LA dataset from Kaggle"
      ],
      "metadata": {
        "id": "RxtfIS5t02xv"
      }
    },
    {
      "cell_type": "code",
      "execution_count": null,
      "metadata": {
        "colab": {
          "base_uri": "https://localhost:8080/"
        },
        "id": "-lfZ8PyCBp0l",
        "outputId": "e3ccae58-f5b3-437e-8d36-b99c595a4ca3"
      },
      "outputs": [
        {
          "output_type": "stream",
          "name": "stdout",
          "text": [
            "Downloading from https://www.kaggle.com/api/v1/datasets/download/annnnguyen/metr-la-dataset?dataset_version_number=4...\n"
          ]
        },
        {
          "output_type": "stream",
          "name": "stderr",
          "text": [
            "100%|██████████| 12.5M/12.5M [00:01<00:00, 7.86MB/s]"
          ]
        },
        {
          "output_type": "stream",
          "name": "stdout",
          "text": [
            "Extracting files...\n"
          ]
        },
        {
          "output_type": "stream",
          "name": "stderr",
          "text": [
            "\n"
          ]
        },
        {
          "output_type": "stream",
          "name": "stdout",
          "text": [
            "Path to dataset files: /root/.cache/kagglehub/datasets/annnnguyen/metr-la-dataset/versions/4\n"
          ]
        }
      ],
      "source": [
        "import kagglehub\n",
        "\n",
        "# Download latest version\n",
        "path = kagglehub.dataset_download(\"annnnguyen/metr-la-dataset\")\n",
        "\n",
        "print(\"Path to dataset files:\", path)"
      ]
    },
    {
      "cell_type": "markdown",
      "source": [
        "Loading sensor speed and proximity data"
      ],
      "metadata": {
        "id": "hW-xq99hygLm"
      }
    },
    {
      "cell_type": "code",
      "source": [
        "import pickle\n",
        "\n",
        "# loading graph data\n",
        "with open(f'{path}/adj_METR-LA.pkl', 'rb') as f:\n",
        "    graph_data = pickle.load(f, encoding='latin1')\n",
        "\n",
        "# graph data conains the sensor ids that map to node ids, and the adjacency matrix for spatial information of the data\n",
        "sensor_ids = graph_data[0]\n",
        "node_ids   = graph_data[1]\n",
        "adj_matrix = graph_data[2]"
      ],
      "metadata": {
        "id": "Q92lnYzQB36i"
      },
      "execution_count": null,
      "outputs": []
    },
    {
      "cell_type": "code",
      "source": [
        "import pandas as pd\n",
        "\n",
        "df = pd.read_hdf(f'{path}/METR-LA.h5', key='df')"
      ],
      "metadata": {
        "id": "CHTodVMrD3RP"
      },
      "execution_count": null,
      "outputs": []
    },
    {
      "cell_type": "markdown",
      "source": [
        "Using linear interpolation to fill in missing values"
      ],
      "metadata": {
        "id": "ejUmzkpz05bT"
      }
    },
    {
      "cell_type": "code",
      "source": [
        "import numpy as np\n",
        "\n",
        "# replacing all missing values, denoted as 0.0, to np.nan for imputation\n",
        "df.replace(0.0, np.nan, inplace=True)\n",
        "\n",
        "# linear interpolation\n",
        "df_imputed = df.interpolate(method='linear', limit_direction='both')\n",
        "df_imputed = df_imputed.bfill().ffill()\n",
        "\n",
        "# takes the index information from the previous df and applies it to the new one\n",
        "df_imputed.index = df.index\n",
        "\n",
        "# Set the frequency manually if it's uniform (e.g., 5 minutes)\n",
        "df_imputed.index = pd.to_datetime(df_imputed.index)  # Ensure the index is of datetime type\n",
        "df_imputed = df_imputed.asfreq('5min')  # Set frequency to 5 minutes (adjust as needed)\n",
        "\n",
        "df_imputed.head()"
      ],
      "metadata": {
        "colab": {
          "base_uri": "https://localhost:8080/",
          "height": 429
        },
        "id": "1g_B-0SmoM90",
        "outputId": "5216fd13-554b-4cd0-cb0d-8e84513d628e"
      },
      "execution_count": null,
      "outputs": [
        {
          "output_type": "execute_result",
          "data": {
            "text/plain": [
              "                        773869     767541     767542     717447     717446  \\\n",
              "2012-03-01 00:00:00  64.375000  67.625000  67.125000  61.500000  66.875000   \n",
              "2012-03-01 00:05:00  62.666667  68.555556  65.444444  62.444444  64.444444   \n",
              "2012-03-01 00:10:00  64.000000  63.750000  60.000000  59.000000  66.500000   \n",
              "2012-03-01 00:15:00  61.777778  65.500000  62.555556  59.888889  66.777778   \n",
              "2012-03-01 00:20:00  59.555556  67.250000  65.111111  60.777778  67.055556   \n",
              "\n",
              "                        717445     773062     767620     737529     717816  \\\n",
              "2012-03-01 00:00:00  68.750000  65.125000  67.125000  59.625000  62.750000   \n",
              "2012-03-01 00:05:00  68.111111  65.000000  65.000000  57.444444  63.333333   \n",
              "2012-03-01 00:10:00  66.250000  64.500000  64.250000  63.875000  65.375000   \n",
              "2012-03-01 00:15:00  67.166667  63.222222  65.277778  63.583333  64.694444   \n",
              "2012-03-01 00:20:00  68.083333  61.944444  66.305556  63.291667  64.013889   \n",
              "\n",
              "                     ...     772167     769372     774204     769806  \\\n",
              "2012-03-01 00:00:00  ...  45.625000  65.500000  64.500000  66.428571   \n",
              "2012-03-01 00:05:00  ...  50.666667  69.875000  66.666667  58.555556   \n",
              "2012-03-01 00:10:00  ...  44.125000  69.000000  56.500000  59.250000   \n",
              "2012-03-01 00:15:00  ...  43.416667  69.333333  60.444444  58.611111   \n",
              "2012-03-01 00:20:00  ...  42.708333  69.666667  64.388889  57.972222   \n",
              "\n",
              "                        717590     717592     717595     772168     718141  \\\n",
              "2012-03-01 00:00:00  66.875000  59.375000  69.000000  59.250000  69.000000   \n",
              "2012-03-01 00:05:00  62.000000  61.111111  64.444444  55.888889  68.444444   \n",
              "2012-03-01 00:10:00  68.125000  62.500000  65.625000  61.375000  69.857143   \n",
              "2012-03-01 00:15:00  67.416667  59.888889  65.305556  60.138889  69.571429   \n",
              "2012-03-01 00:20:00  66.708333  57.277778  64.986111  58.902778  69.285714   \n",
              "\n",
              "                        769373  \n",
              "2012-03-01 00:00:00  61.875000  \n",
              "2012-03-01 00:05:00  62.875000  \n",
              "2012-03-01 00:10:00  62.000000  \n",
              "2012-03-01 00:15:00  60.444444  \n",
              "2012-03-01 00:20:00  58.888889  \n",
              "\n",
              "[5 rows x 207 columns]"
            ],
            "text/html": [
              "\n",
              "  <div id=\"df-9088c9f7-9376-4b6b-a992-ab3690db3281\" class=\"colab-df-container\">\n",
              "    <div>\n",
              "<style scoped>\n",
              "    .dataframe tbody tr th:only-of-type {\n",
              "        vertical-align: middle;\n",
              "    }\n",
              "\n",
              "    .dataframe tbody tr th {\n",
              "        vertical-align: top;\n",
              "    }\n",
              "\n",
              "    .dataframe thead th {\n",
              "        text-align: right;\n",
              "    }\n",
              "</style>\n",
              "<table border=\"1\" class=\"dataframe\">\n",
              "  <thead>\n",
              "    <tr style=\"text-align: right;\">\n",
              "      <th></th>\n",
              "      <th>773869</th>\n",
              "      <th>767541</th>\n",
              "      <th>767542</th>\n",
              "      <th>717447</th>\n",
              "      <th>717446</th>\n",
              "      <th>717445</th>\n",
              "      <th>773062</th>\n",
              "      <th>767620</th>\n",
              "      <th>737529</th>\n",
              "      <th>717816</th>\n",
              "      <th>...</th>\n",
              "      <th>772167</th>\n",
              "      <th>769372</th>\n",
              "      <th>774204</th>\n",
              "      <th>769806</th>\n",
              "      <th>717590</th>\n",
              "      <th>717592</th>\n",
              "      <th>717595</th>\n",
              "      <th>772168</th>\n",
              "      <th>718141</th>\n",
              "      <th>769373</th>\n",
              "    </tr>\n",
              "  </thead>\n",
              "  <tbody>\n",
              "    <tr>\n",
              "      <th>2012-03-01 00:00:00</th>\n",
              "      <td>64.375000</td>\n",
              "      <td>67.625000</td>\n",
              "      <td>67.125000</td>\n",
              "      <td>61.500000</td>\n",
              "      <td>66.875000</td>\n",
              "      <td>68.750000</td>\n",
              "      <td>65.125000</td>\n",
              "      <td>67.125000</td>\n",
              "      <td>59.625000</td>\n",
              "      <td>62.750000</td>\n",
              "      <td>...</td>\n",
              "      <td>45.625000</td>\n",
              "      <td>65.500000</td>\n",
              "      <td>64.500000</td>\n",
              "      <td>66.428571</td>\n",
              "      <td>66.875000</td>\n",
              "      <td>59.375000</td>\n",
              "      <td>69.000000</td>\n",
              "      <td>59.250000</td>\n",
              "      <td>69.000000</td>\n",
              "      <td>61.875000</td>\n",
              "    </tr>\n",
              "    <tr>\n",
              "      <th>2012-03-01 00:05:00</th>\n",
              "      <td>62.666667</td>\n",
              "      <td>68.555556</td>\n",
              "      <td>65.444444</td>\n",
              "      <td>62.444444</td>\n",
              "      <td>64.444444</td>\n",
              "      <td>68.111111</td>\n",
              "      <td>65.000000</td>\n",
              "      <td>65.000000</td>\n",
              "      <td>57.444444</td>\n",
              "      <td>63.333333</td>\n",
              "      <td>...</td>\n",
              "      <td>50.666667</td>\n",
              "      <td>69.875000</td>\n",
              "      <td>66.666667</td>\n",
              "      <td>58.555556</td>\n",
              "      <td>62.000000</td>\n",
              "      <td>61.111111</td>\n",
              "      <td>64.444444</td>\n",
              "      <td>55.888889</td>\n",
              "      <td>68.444444</td>\n",
              "      <td>62.875000</td>\n",
              "    </tr>\n",
              "    <tr>\n",
              "      <th>2012-03-01 00:10:00</th>\n",
              "      <td>64.000000</td>\n",
              "      <td>63.750000</td>\n",
              "      <td>60.000000</td>\n",
              "      <td>59.000000</td>\n",
              "      <td>66.500000</td>\n",
              "      <td>66.250000</td>\n",
              "      <td>64.500000</td>\n",
              "      <td>64.250000</td>\n",
              "      <td>63.875000</td>\n",
              "      <td>65.375000</td>\n",
              "      <td>...</td>\n",
              "      <td>44.125000</td>\n",
              "      <td>69.000000</td>\n",
              "      <td>56.500000</td>\n",
              "      <td>59.250000</td>\n",
              "      <td>68.125000</td>\n",
              "      <td>62.500000</td>\n",
              "      <td>65.625000</td>\n",
              "      <td>61.375000</td>\n",
              "      <td>69.857143</td>\n",
              "      <td>62.000000</td>\n",
              "    </tr>\n",
              "    <tr>\n",
              "      <th>2012-03-01 00:15:00</th>\n",
              "      <td>61.777778</td>\n",
              "      <td>65.500000</td>\n",
              "      <td>62.555556</td>\n",
              "      <td>59.888889</td>\n",
              "      <td>66.777778</td>\n",
              "      <td>67.166667</td>\n",
              "      <td>63.222222</td>\n",
              "      <td>65.277778</td>\n",
              "      <td>63.583333</td>\n",
              "      <td>64.694444</td>\n",
              "      <td>...</td>\n",
              "      <td>43.416667</td>\n",
              "      <td>69.333333</td>\n",
              "      <td>60.444444</td>\n",
              "      <td>58.611111</td>\n",
              "      <td>67.416667</td>\n",
              "      <td>59.888889</td>\n",
              "      <td>65.305556</td>\n",
              "      <td>60.138889</td>\n",
              "      <td>69.571429</td>\n",
              "      <td>60.444444</td>\n",
              "    </tr>\n",
              "    <tr>\n",
              "      <th>2012-03-01 00:20:00</th>\n",
              "      <td>59.555556</td>\n",
              "      <td>67.250000</td>\n",
              "      <td>65.111111</td>\n",
              "      <td>60.777778</td>\n",
              "      <td>67.055556</td>\n",
              "      <td>68.083333</td>\n",
              "      <td>61.944444</td>\n",
              "      <td>66.305556</td>\n",
              "      <td>63.291667</td>\n",
              "      <td>64.013889</td>\n",
              "      <td>...</td>\n",
              "      <td>42.708333</td>\n",
              "      <td>69.666667</td>\n",
              "      <td>64.388889</td>\n",
              "      <td>57.972222</td>\n",
              "      <td>66.708333</td>\n",
              "      <td>57.277778</td>\n",
              "      <td>64.986111</td>\n",
              "      <td>58.902778</td>\n",
              "      <td>69.285714</td>\n",
              "      <td>58.888889</td>\n",
              "    </tr>\n",
              "  </tbody>\n",
              "</table>\n",
              "<p>5 rows × 207 columns</p>\n",
              "</div>\n",
              "    <div class=\"colab-df-buttons\">\n",
              "\n",
              "  <div class=\"colab-df-container\">\n",
              "    <button class=\"colab-df-convert\" onclick=\"convertToInteractive('df-9088c9f7-9376-4b6b-a992-ab3690db3281')\"\n",
              "            title=\"Convert this dataframe to an interactive table.\"\n",
              "            style=\"display:none;\">\n",
              "\n",
              "  <svg xmlns=\"http://www.w3.org/2000/svg\" height=\"24px\" viewBox=\"0 -960 960 960\">\n",
              "    <path d=\"M120-120v-720h720v720H120Zm60-500h600v-160H180v160Zm220 220h160v-160H400v160Zm0 220h160v-160H400v160ZM180-400h160v-160H180v160Zm440 0h160v-160H620v160ZM180-180h160v-160H180v160Zm440 0h160v-160H620v160Z\"/>\n",
              "  </svg>\n",
              "    </button>\n",
              "\n",
              "  <style>\n",
              "    .colab-df-container {\n",
              "      display:flex;\n",
              "      gap: 12px;\n",
              "    }\n",
              "\n",
              "    .colab-df-convert {\n",
              "      background-color: #E8F0FE;\n",
              "      border: none;\n",
              "      border-radius: 50%;\n",
              "      cursor: pointer;\n",
              "      display: none;\n",
              "      fill: #1967D2;\n",
              "      height: 32px;\n",
              "      padding: 0 0 0 0;\n",
              "      width: 32px;\n",
              "    }\n",
              "\n",
              "    .colab-df-convert:hover {\n",
              "      background-color: #E2EBFA;\n",
              "      box-shadow: 0px 1px 2px rgba(60, 64, 67, 0.3), 0px 1px 3px 1px rgba(60, 64, 67, 0.15);\n",
              "      fill: #174EA6;\n",
              "    }\n",
              "\n",
              "    .colab-df-buttons div {\n",
              "      margin-bottom: 4px;\n",
              "    }\n",
              "\n",
              "    [theme=dark] .colab-df-convert {\n",
              "      background-color: #3B4455;\n",
              "      fill: #D2E3FC;\n",
              "    }\n",
              "\n",
              "    [theme=dark] .colab-df-convert:hover {\n",
              "      background-color: #434B5C;\n",
              "      box-shadow: 0px 1px 3px 1px rgba(0, 0, 0, 0.15);\n",
              "      filter: drop-shadow(0px 1px 2px rgba(0, 0, 0, 0.3));\n",
              "      fill: #FFFFFF;\n",
              "    }\n",
              "  </style>\n",
              "\n",
              "    <script>\n",
              "      const buttonEl =\n",
              "        document.querySelector('#df-9088c9f7-9376-4b6b-a992-ab3690db3281 button.colab-df-convert');\n",
              "      buttonEl.style.display =\n",
              "        google.colab.kernel.accessAllowed ? 'block' : 'none';\n",
              "\n",
              "      async function convertToInteractive(key) {\n",
              "        const element = document.querySelector('#df-9088c9f7-9376-4b6b-a992-ab3690db3281');\n",
              "        const dataTable =\n",
              "          await google.colab.kernel.invokeFunction('convertToInteractive',\n",
              "                                                    [key], {});\n",
              "        if (!dataTable) return;\n",
              "\n",
              "        const docLinkHtml = 'Like what you see? Visit the ' +\n",
              "          '<a target=\"_blank\" href=https://colab.research.google.com/notebooks/data_table.ipynb>data table notebook</a>'\n",
              "          + ' to learn more about interactive tables.';\n",
              "        element.innerHTML = '';\n",
              "        dataTable['output_type'] = 'display_data';\n",
              "        await google.colab.output.renderOutput(dataTable, element);\n",
              "        const docLink = document.createElement('div');\n",
              "        docLink.innerHTML = docLinkHtml;\n",
              "        element.appendChild(docLink);\n",
              "      }\n",
              "    </script>\n",
              "  </div>\n",
              "\n",
              "\n",
              "    <div id=\"df-f7e05b69-d068-4381-8c11-7bd95e41c552\">\n",
              "      <button class=\"colab-df-quickchart\" onclick=\"quickchart('df-f7e05b69-d068-4381-8c11-7bd95e41c552')\"\n",
              "                title=\"Suggest charts\"\n",
              "                style=\"display:none;\">\n",
              "\n",
              "<svg xmlns=\"http://www.w3.org/2000/svg\" height=\"24px\"viewBox=\"0 0 24 24\"\n",
              "     width=\"24px\">\n",
              "    <g>\n",
              "        <path d=\"M19 3H5c-1.1 0-2 .9-2 2v14c0 1.1.9 2 2 2h14c1.1 0 2-.9 2-2V5c0-1.1-.9-2-2-2zM9 17H7v-7h2v7zm4 0h-2V7h2v10zm4 0h-2v-4h2v4z\"/>\n",
              "    </g>\n",
              "</svg>\n",
              "      </button>\n",
              "\n",
              "<style>\n",
              "  .colab-df-quickchart {\n",
              "      --bg-color: #E8F0FE;\n",
              "      --fill-color: #1967D2;\n",
              "      --hover-bg-color: #E2EBFA;\n",
              "      --hover-fill-color: #174EA6;\n",
              "      --disabled-fill-color: #AAA;\n",
              "      --disabled-bg-color: #DDD;\n",
              "  }\n",
              "\n",
              "  [theme=dark] .colab-df-quickchart {\n",
              "      --bg-color: #3B4455;\n",
              "      --fill-color: #D2E3FC;\n",
              "      --hover-bg-color: #434B5C;\n",
              "      --hover-fill-color: #FFFFFF;\n",
              "      --disabled-bg-color: #3B4455;\n",
              "      --disabled-fill-color: #666;\n",
              "  }\n",
              "\n",
              "  .colab-df-quickchart {\n",
              "    background-color: var(--bg-color);\n",
              "    border: none;\n",
              "    border-radius: 50%;\n",
              "    cursor: pointer;\n",
              "    display: none;\n",
              "    fill: var(--fill-color);\n",
              "    height: 32px;\n",
              "    padding: 0;\n",
              "    width: 32px;\n",
              "  }\n",
              "\n",
              "  .colab-df-quickchart:hover {\n",
              "    background-color: var(--hover-bg-color);\n",
              "    box-shadow: 0 1px 2px rgba(60, 64, 67, 0.3), 0 1px 3px 1px rgba(60, 64, 67, 0.15);\n",
              "    fill: var(--button-hover-fill-color);\n",
              "  }\n",
              "\n",
              "  .colab-df-quickchart-complete:disabled,\n",
              "  .colab-df-quickchart-complete:disabled:hover {\n",
              "    background-color: var(--disabled-bg-color);\n",
              "    fill: var(--disabled-fill-color);\n",
              "    box-shadow: none;\n",
              "  }\n",
              "\n",
              "  .colab-df-spinner {\n",
              "    border: 2px solid var(--fill-color);\n",
              "    border-color: transparent;\n",
              "    border-bottom-color: var(--fill-color);\n",
              "    animation:\n",
              "      spin 1s steps(1) infinite;\n",
              "  }\n",
              "\n",
              "  @keyframes spin {\n",
              "    0% {\n",
              "      border-color: transparent;\n",
              "      border-bottom-color: var(--fill-color);\n",
              "      border-left-color: var(--fill-color);\n",
              "    }\n",
              "    20% {\n",
              "      border-color: transparent;\n",
              "      border-left-color: var(--fill-color);\n",
              "      border-top-color: var(--fill-color);\n",
              "    }\n",
              "    30% {\n",
              "      border-color: transparent;\n",
              "      border-left-color: var(--fill-color);\n",
              "      border-top-color: var(--fill-color);\n",
              "      border-right-color: var(--fill-color);\n",
              "    }\n",
              "    40% {\n",
              "      border-color: transparent;\n",
              "      border-right-color: var(--fill-color);\n",
              "      border-top-color: var(--fill-color);\n",
              "    }\n",
              "    60% {\n",
              "      border-color: transparent;\n",
              "      border-right-color: var(--fill-color);\n",
              "    }\n",
              "    80% {\n",
              "      border-color: transparent;\n",
              "      border-right-color: var(--fill-color);\n",
              "      border-bottom-color: var(--fill-color);\n",
              "    }\n",
              "    90% {\n",
              "      border-color: transparent;\n",
              "      border-bottom-color: var(--fill-color);\n",
              "    }\n",
              "  }\n",
              "</style>\n",
              "\n",
              "      <script>\n",
              "        async function quickchart(key) {\n",
              "          const quickchartButtonEl =\n",
              "            document.querySelector('#' + key + ' button');\n",
              "          quickchartButtonEl.disabled = true;  // To prevent multiple clicks.\n",
              "          quickchartButtonEl.classList.add('colab-df-spinner');\n",
              "          try {\n",
              "            const charts = await google.colab.kernel.invokeFunction(\n",
              "                'suggestCharts', [key], {});\n",
              "          } catch (error) {\n",
              "            console.error('Error during call to suggestCharts:', error);\n",
              "          }\n",
              "          quickchartButtonEl.classList.remove('colab-df-spinner');\n",
              "          quickchartButtonEl.classList.add('colab-df-quickchart-complete');\n",
              "        }\n",
              "        (() => {\n",
              "          let quickchartButtonEl =\n",
              "            document.querySelector('#df-f7e05b69-d068-4381-8c11-7bd95e41c552 button');\n",
              "          quickchartButtonEl.style.display =\n",
              "            google.colab.kernel.accessAllowed ? 'block' : 'none';\n",
              "        })();\n",
              "      </script>\n",
              "    </div>\n",
              "\n",
              "    </div>\n",
              "  </div>\n"
            ],
            "application/vnd.google.colaboratory.intrinsic+json": {
              "type": "dataframe",
              "variable_name": "df_imputed"
            }
          },
          "metadata": {},
          "execution_count": 5
        }
      ]
    },
    {
      "cell_type": "markdown",
      "source": [
        "# Data visualization"
      ],
      "metadata": {
        "id": "geaEJGUFzfrt"
      }
    },
    {
      "cell_type": "markdown",
      "source": [
        "Visualization of speed over time of a few of the sensors"
      ],
      "metadata": {
        "id": "XAuuOU3107qA"
      }
    },
    {
      "cell_type": "code",
      "source": [
        "import matplotlib.pyplot as plt\n",
        "\n",
        "# example portion of the data\n",
        "df_imputed.iloc[0:288, 0].plot()\n",
        "df_imputed.iloc[0:288, 1].plot()\n",
        "df_imputed.iloc[0:288, 2].plot()\n",
        "plt.legend(['Sensor 1', 'Sensor 2', 'Sensor 3'])\n",
        "plt.xlabel('Time')\n",
        "plt.ylabel('Speed in mph')\n",
        "plt.title('Sensor Speeds over Time (2012-03-01)')\n",
        "plt.show()"
      ],
      "metadata": {
        "colab": {
          "base_uri": "https://localhost:8080/",
          "height": 488
        },
        "id": "RlIxFSkquNKO",
        "outputId": "5b5f6f57-095d-4abd-ed35-2751ebfe6cc9"
      },
      "execution_count": null,
      "outputs": [
        {
          "output_type": "display_data",
          "data": {
            "text/plain": [
              "<Figure size 640x480 with 1 Axes>"
            ],
            "image/png": "[encoded data removed]"
          },
          "metadata": {}
        }
      ]
    },
    {
      "cell_type": "markdown",
      "source": [
        "Visualizing how the sensors relate to each other, these are the first 30 nodes"
      ],
      "metadata": {
        "id": "errxBvihzT0n"
      }
    },
    {
      "cell_type": "code",
      "source": [
        "import seaborn as sns\n",
        "\n",
        "# showing how each sensor is related to each other, we can see that Node 3 and 5 are correlated with each other, but Node 0 and 2 arent correlated at all\n",
        "sns.heatmap(adj_matrix[:30, :30], cmap='Blues')"
      ],
      "metadata": {
        "colab": {
          "base_uri": "https://localhost:8080/",
          "height": 452
        },
        "id": "-2ep4qYDv9lN",
        "outputId": "dbf2468e-0fd8-4cba-f79a-3d6624d12b94"
      },
      "execution_count": null,
      "outputs": [
        {
          "output_type": "execute_result",
          "data": {
            "text/plain": [
              "<Axes: >"
            ]
          },
          "metadata": {},
          "execution_count": 7
        },
        {
          "output_type": "display_data",
          "data": {
            "text/plain": [
              "<Figure size 640x480 with 2 Axes>"
            ],
            "image/png": "[encoded data removed]"
          },
          "metadata": {}
        }
      ]
    },
    {
      "cell_type": "markdown",
      "source": [
        "# Dataset creation"
      ],
      "metadata": {
        "id": "TyxySZQVzlow"
      }
    },
    {
      "cell_type": "markdown",
      "source": [
        "To create the dataset, we use a history of 12 time steps of 5 minutes to predict the next 3 time steps also of 5 minutes"
      ],
      "metadata": {
        "id": "0qovJfejz4QJ"
      }
    },
    {
      "cell_type": "code",
      "source": [
        "def create_dataset(df, history=12, horizon=3):\n",
        "  data = df.values\n",
        "  X, y = [], []\n",
        "  # using sliding window technique to get a data point that's history size long (12 * 5 = 60 mins)\n",
        "  # maps it to the future window of horizon long (in this case 3 * 5 = 15 mins)\n",
        "  for t in range(len(data) - history - horizon + 1):\n",
        "    x_t = data[t:t+history]\n",
        "    y_t = data[t+history:t+history+horizon]\n",
        "    X.append(x_t)\n",
        "    y.append(y_t)\n",
        "  return np.array(X), np.array(y)\n",
        "\n",
        "X, y = create_dataset(df_imputed)\n",
        "print(f'X shape: {X.shape}, y shape: {y.shape}')"
      ],
      "metadata": {
        "id": "6gMiLCYr2Xuk",
        "colab": {
          "base_uri": "https://localhost:8080/"
        },
        "outputId": "b30da034-6f62-4301-8a0b-0a8e7ee8243f"
      },
      "execution_count": null,
      "outputs": [
        {
          "output_type": "stream",
          "name": "stdout",
          "text": [
            "X shape: (34258, 12, 207), y shape: (34258, 3, 207)\n"
          ]
        }
      ]
    },
    {
      "cell_type": "markdown",
      "source": [
        "Taking the adjacency matrix from the METR-LA dataset to format into proper PyTorch Geometric (PyG) format"
      ],
      "metadata": {
        "id": "onTWu2-S0D7V"
      }
    },
    {
      "cell_type": "code",
      "source": [
        "import torch\n",
        "\n",
        "# getting the indices of non-zero elements, this is where there are edges\n",
        "source_nodes, target_nodes = np.where(adj_matrix > 0)\n",
        "\n",
        "# turning into an index, which defines structure of the graph\n",
        "edge_index = torch.tensor([source_nodes, target_nodes], dtype=torch.long)\n",
        "\n",
        "# keeping track the weight of each edge\n",
        "edge_attr = torch.tensor(adj_matrix[source_nodes, target_nodes], dtype=torch.float).unsqueeze(1)"
      ],
      "metadata": {
        "id": "UT3BY70x0OyU",
        "colab": {
          "base_uri": "https://localhost:8080/"
        },
        "outputId": "5ecf2d88-d5bc-4ee0-aa03-5ff0e8f914f3"
      },
      "execution_count": null,
      "outputs": [
        {
          "output_type": "stream",
          "name": "stderr",
          "text": [
            "<ipython-input-9-1d406eb05b80>:7: UserWarning: Creating a tensor from a list of numpy.ndarrays is extremely slow. Please consider converting the list to a single numpy.ndarray with numpy.array() before converting to a tensor. (Triggered internally at /pytorch/torch/csrc/utils/tensor_new.cpp:254.)\n",
            "  edge_index = torch.tensor([source_nodes, target_nodes], dtype=torch.long)\n"
          ]
        }
      ]
    },
    {
      "cell_type": "markdown",
      "source": [
        "We wrap the dataset into a Dataset class to be compatible with PyG and GCNs"
      ],
      "metadata": {
        "id": "nTYE5nNk08EY"
      }
    },
    {
      "cell_type": "code",
      "source": [
        "from torch.utils.data import Dataset\n",
        "from torch_geometric.data import Data\n",
        "\n",
        "class TrafficDataset(Dataset):\n",
        "  def __init__(self, X, y, edge_index, edge_attr):\n",
        "    self.X = torch.tensor(X, dtype=torch.float32) # Shape: (num_samples, historical time steps (12), num_nodes)\n",
        "    self.y = torch.tensor(y, dtype=torch.float32) # Shape: (num_samples, horizon time steps (3), num_nodes)\n",
        "    self.edge_index = edge_index\n",
        "    self.edge_attr = edge_attr\n",
        "\n",
        "  def __len__(self):\n",
        "    return len(self.X)\n",
        "\n",
        "  def __getitem__(self, idx):\n",
        "    x_seq = self.X[idx] # Shape: (12, 207)\n",
        "    y_seq = self.y[idx] # Shape: (3, 207)\n",
        "\n",
        "    # creating Data objects for each timestep\n",
        "    data_list = []\n",
        "    for t in range(x_seq.shape[0]):\n",
        "      # 207 sensors, 1 feature (speed), to give us shape of (207,1)\n",
        "      # x_t was originally (207,)\n",
        "      # this is so that it is compatible with the GCN\n",
        "      x_t = x_seq[t].unsqueeze(1)\n",
        "      data = Data(x=x_t, edge_index=self.edge_index, edge_attr=self.edge_attr)\n",
        "      data_list.append(data)\n",
        "\n",
        "    # data_list list of 12 (207,1) objs\n",
        "    # y_seq.shape(3,207)\n",
        "    return data_list, y_seq"
      ],
      "metadata": {
        "id": "B37UYWTXMDb7"
      },
      "execution_count": null,
      "outputs": []
    },
    {
      "cell_type": "markdown",
      "source": [
        "Splitting data into train, val, and test splits"
      ],
      "metadata": {
        "id": "hEywJNP8a7y9"
      }
    },
    {
      "cell_type": "code",
      "source": [
        "import copy\n",
        "\n",
        "# this deep copy will not be scaled and used for the baseline model\n",
        "X_orig = copy.deepcopy(X)\n",
        "y_orig = copy.deepcopy(y)"
      ],
      "metadata": {
        "id": "6fR0lvyV-tIR"
      },
      "execution_count": null,
      "outputs": []
    },
    {
      "cell_type": "code",
      "source": [
        "from sklearn.preprocessing import StandardScaler\n",
        "\n",
        "def train_val_test_split(X, y, val_ratio=0.1, test_ratio=0.1,scale=True):\n",
        "  train_size = int(len(X) * (1 - val_ratio - test_ratio))\n",
        "  val_size = int(len(X) * val_ratio)\n",
        "  test_size = len(X) - train_size - val_size\n",
        "  x_scaler, y_scaler = None, None\n",
        "  if scale:\n",
        "    # StandardScaler expects dimension of 2 (X is currently dim=3)\n",
        "    # we can flatten each of the samples from (12,207) to one dimension\n",
        "    X_reshaped = X.reshape(X.shape[0], -1)\n",
        "\n",
        "    x_scaler = StandardScaler()\n",
        "    # using the training set to scale, and using those values to transform val and train set\n",
        "    X_reshaped[:train_size] = x_scaler.fit_transform(X_reshaped[:train_size])\n",
        "    X_reshaped[train_size:train_size+val_size] = x_scaler.transform(X_reshaped[train_size:train_size+val_size])\n",
        "    X_reshaped[train_size+val_size:] = x_scaler.transform(X_reshaped[train_size+val_size:])\n",
        "\n",
        "    # reshaping back to the original shape\n",
        "    X = X_reshaped.reshape(X.shape)\n",
        "\n",
        "    y_reshaped = y.reshape(y.shape[0], -1)\n",
        "    y_scaler = StandardScaler()\n",
        "    y_reshaped[:train_size] = y_scaler.fit_transform(y_reshaped[:train_size])\n",
        "    y_reshaped[train_size:train_size+val_size] = y_scaler.transform(y_reshaped[train_size:train_size+val_size])\n",
        "    y_reshaped[train_size+val_size:] = y_scaler.transform(y_reshaped[train_size+val_size:])\n",
        "    y = y_reshaped.reshape(y.shape)\n",
        "\n",
        "  # splitting the dataset using the different sizes\n",
        "  train = TrafficDataset(X[:train_size], y[:train_size], edge_index, edge_attr)\n",
        "  val = TrafficDataset(X[train_size:train_size+val_size], y[train_size:train_size+val_size], edge_index, edge_attr)\n",
        "  test = TrafficDataset(X[train_size+val_size:], y[train_size+val_size:], edge_index, edge_attr)\n",
        "\n",
        "  print(f\"Train size: {len(train)}\")\n",
        "  print(f\"Validation size: {len(val)}\")\n",
        "  print(f\"Test size: {len(test)}\")\n",
        "\n",
        "  return train, val, test, x_scaler if x_scaler else None, y_scaler if y_scaler else None\n",
        "\n",
        "train, val, test, x_scaler, y_scaler= train_val_test_split(X,y)"
      ],
      "metadata": {
        "colab": {
          "base_uri": "https://localhost:8080/"
        },
        "id": "nN1VzLKXZB7N",
        "outputId": "dc3c0fd7-fb7d-42dd-ad08-fe8035de57af"
      },
      "execution_count": null,
      "outputs": [
        {
          "output_type": "stream",
          "name": "stdout",
          "text": [
            "Train size: 27406\n",
            "Validation size: 3425\n",
            "Test size: 3427\n"
          ]
        }
      ]
    },
    {
      "cell_type": "markdown",
      "source": [
        "We use DataLoader to split the dataset into batches for mini-batch SGD"
      ],
      "metadata": {
        "id": "RUgLWVm3jWHm"
      }
    },
    {
      "cell_type": "code",
      "source": [
        "# default PyTorch cannot collate PyG Data objects\n",
        "# we define this here\n",
        "# we are putting the x_seq's into a list called x_seq_batch\n",
        "# and since y is a torch.tensor, we can stack each y instance using torch\n",
        "def collate_fn(batch):\n",
        "    x_seq_batch = [item[0] for item in batch]  # List of batch_size (128) sequences of 12 Data objects\n",
        "    y_batch = torch.stack([item[1] for item in batch])  # Stack the target tensors\n",
        "\n",
        "    # y_seq.shape = (128, 3, 207)\n",
        "    return x_seq_batch, y_batch"
      ],
      "metadata": {
        "id": "NxMRhSLAb4jx"
      },
      "execution_count": null,
      "outputs": []
    },
    {
      "cell_type": "code",
      "source": [
        "from torch.utils.data import DataLoader\n",
        "\n",
        "train_loader = DataLoader(train, batch_size=128, shuffle=True, collate_fn=collate_fn)\n",
        "val_loader = DataLoader(val, batch_size=128, shuffle=False, collate_fn=collate_fn)\n",
        "test_loader = DataLoader(test, batch_size=128, shuffle=False, collate_fn=collate_fn)"
      ],
      "metadata": {
        "id": "c1imVNNEecGW"
      },
      "execution_count": null,
      "outputs": []
    },
    {
      "cell_type": "markdown",
      "source": [
        "# Baseline model: Historical Average\n",
        "Predicting speeds based off of past averages"
      ],
      "metadata": {
        "id": "CVt-KIQaSPuR"
      }
    },
    {
      "cell_type": "code",
      "source": [
        "from sklearn.model_selection import train_test_split\n",
        "\n",
        "# X, y = shape (N, 12, 207) and (N, 3, 207)\n",
        "X_train, X_test, y_train, y_test = train_test_split(X_orig, y_orig, test_size=0.2, shuffle=False)\n",
        "\n",
        "# compute average across training targets (axis=0 and 1: over time + samples)\n",
        "historical_avg = y_train.mean(axis=(0, 1))  # shape (207,)\n",
        "\n",
        "# broadcast to shape (test_size, 3, 207)\n",
        "baseline_preds = np.tile(historical_avg, (y_test.shape[0], y_test.shape[1], 1))\n",
        "\n",
        "# compute metrics\n",
        "mae = np.mean(np.abs(baseline_preds - y_test))\n",
        "rmse = np.sqrt(np.mean((baseline_preds - y_test) ** 2))\n",
        "mape = np.mean(np.abs((baseline_preds - y_test) / (y_test + 1e-5))) * 100\n",
        "\n",
        "print(f\"MAE: {mae:.4f}\")\n",
        "print(f\"RMSE: {rmse:.4f}\")\n",
        "print(f\"MAPE: {mape:.4f}\")"
      ],
      "metadata": {
        "id": "C9Qs9BFDkE7P",
        "colab": {
          "base_uri": "https://localhost:8080/"
        },
        "outputId": "400191a7-d161-481d-e5ad-9a1867e8a7fa"
      },
      "execution_count": null,
      "outputs": [
        {
          "output_type": "stream",
          "name": "stdout",
          "text": [
            "MAE: 7.5228\n",
            "RMSE: 11.7909\n",
            "MAPE: 24.5096\n"
          ]
        }
      ]
    },
    {
      "cell_type": "markdown",
      "source": [
        "MAE: the model is off by ~7.5 mph per prediction <br>\n",
        "RMSE: large errors exist <br>\n",
        "MAPE: predictions are off by around ~24.5% on average relative to ground truth <br>"
      ],
      "metadata": {
        "id": "r6EZVJmx4azT"
      }
    },
    {
      "cell_type": "markdown",
      "source": [
        "Visualizing the predictions with the ground truth"
      ],
      "metadata": {
        "id": "mQmaOTMA32oI"
      }
    },
    {
      "cell_type": "code",
      "source": [
        "import matplotlib.pyplot as plt\n",
        "\n",
        "# Choose a node index (e.g., node 0)\n",
        "node_idx = 2\n",
        "\n",
        "# Flatten y_test and baseline_preds to shape (num_samples * 3, 207)\n",
        "# So we can extract all 3-step ahead predictions per sample\n",
        "y_flat = y_test.reshape(-1, 207)\n",
        "preds_flat = baseline_preds.reshape(-1, 207)\n",
        "\n",
        "# Select values for one node\n",
        "y_node = y_flat[:, node_idx]\n",
        "preds_node = preds_flat[:, node_idx]\n",
        "\n",
        "plt.plot(y_node[:288], label=\"Ground Truth\")\n",
        "plt.plot(preds_node[:288], label=\"Historical Avg Prediction\", linestyle=\"--\")\n",
        "plt.title(f\"Traffic Speed for Node {node_idx} (First 24 hours)\")\n",
        "plt.xlabel(\"5-minute intervals\")\n",
        "plt.ylabel(\"Speed\")\n",
        "plt.legend()\n",
        "plt.grid(True)\n",
        "plt.show()"
      ],
      "metadata": {
        "colab": {
          "base_uri": "https://localhost:8080/",
          "height": 472
        },
        "id": "IprQPfQ1hgh3",
        "outputId": "e80c3c1b-31cf-46fb-d905-450e1c896df7"
      },
      "execution_count": null,
      "outputs": [
        {
          "output_type": "display_data",
          "data": {
            "text/plain": [
              "<Figure size 640x480 with 1 Axes>"
            ],
            "image/png": "[encoded data removed]"
          },
          "metadata": {}
        }
      ]
    },
    {
      "cell_type": "markdown",
      "source": [
        "# Spatiotemporal Model: GCNLSTM Model"
      ],
      "metadata": {
        "id": "n-Qu2TEFa-_m"
      }
    },
    {
      "cell_type": "code",
      "source": [
        "from torch import nn\n",
        "from torch_geometric.nn import GCNConv\n",
        "from torch_geometric.data import Batch\n",
        "\n",
        "class TrafficForecastingModel(nn.Module):\n",
        "    def __init__(self):\n",
        "        super(TrafficForecastingModel, self).__init__()\n",
        "\n",
        "        self.gcn1 = GCNConv(1, 32)\n",
        "        self.relu1 = nn.ReLU()\n",
        "\n",
        "        self.gcn2 = GCNConv(32, 64)\n",
        "        self.dropout = nn.Dropout(p=0.2)\n",
        "        self.relu2 = nn.ReLU()\n",
        "\n",
        "        self.gcn3 = GCNConv(64, 64)\n",
        "        self.relu3 = nn.ReLU()\n",
        "\n",
        "        self.lstm = nn.LSTM(\n",
        "            input_size=64,\n",
        "            hidden_size=128,\n",
        "            num_layers=4,\n",
        "            dropout=0.2,\n",
        "            batch_first=True\n",
        "        )\n",
        "\n",
        "        self.fc = nn.Linear(128, 3)\n",
        "\n",
        "    def forward(self, batched_graphs, batch_size):\n",
        "        # batched_graphs contains all (batch_size * 12) graphs\n",
        "        x, edge_index, edge_attr = batched_graphs.x, batched_graphs.edge_index, batched_graphs.edge_attr\n",
        "\n",
        "        # GCN layers over the mega batch\n",
        "        x = self.gcn1(x, edge_index, edge_weight=edge_attr)\n",
        "\n",
        "        # dropout 20% of neurons randomly\n",
        "        x = self.dropout(x)\n",
        "        x = self.relu1(x)\n",
        "\n",
        "        x = self.gcn2(x, edge_index, edge_weight=edge_attr)\n",
        "        x = self.relu2(x)\n",
        "\n",
        "        # residual GCN layer (GCN3 + skip connection from GCN2 output)\n",
        "        res = x\n",
        "        x = self.gcn3(x, edge_index, edge_weight=edge_attr)\n",
        "        x = self.relu3(x + res)\n",
        "\n",
        "        # split GCN outputs into 12 chunks (timesteps)\n",
        "        num_nodes = 207\n",
        "        seq_len = 12\n",
        "        gcn_out_dim = 64\n",
        "\n",
        "        # x.shape = (64 * 12 * 207, 64)\n",
        "        # we need to reshape to reshape to (64, 12, 207, 64)\n",
        "        # view() will reshape accordingly since order of everything was preserved\n",
        "        x = x.view(batch_size, seq_len, num_nodes, gcn_out_dim)\n",
        "\n",
        "        # rearrange for LSTM: (batch_size * num_nodes, seq_len, gcn_out_dim)\n",
        "        # this is because LSTM expects (num_nodes (generally called batch), seq_len, input_features)\n",
        "        # as we want to treat each node as a separate sequence\n",
        "\n",
        "        # we then reshape for forwarding a whole batch\n",
        "        x = x.permute(0, 2, 1, 3)\n",
        "        x = x.reshape(batch_size * num_nodes, seq_len, gcn_out_dim)\n",
        "\n",
        "        # now can pass each x with 12 time instances through LSTM\n",
        "        # with each time instance, we use the same LSTM unit, creating 12 hidden states\n",
        "        lstm_out, _ = self.lstm(x)  # shape: (128 * 207, 12, 128)\n",
        "\n",
        "        # the last hidden state summarizes the entire sequence,\n",
        "        # as it has been updated at each time step using previous hidden states\n",
        "        # it captures the temporal context up to the final time step\n",
        "        last_hidden = lstm_out[:, -1, :]  # (128 * 207, 128)\n",
        "\n",
        "        # dropout 0.2\n",
        "        last_hidden = self.dropout(last_hidden)\n",
        "        # final pass through fully connected output, reshape to (128, 207, 3)\n",
        "        out = self.fc(last_hidden)\n",
        "        out = out.view(batch_size, num_nodes, -1)\n",
        "\n",
        "        return out  # shape: (128, 207, 3)\n"
      ],
      "metadata": {
        "id": "BmdQGapf-sqG"
      },
      "execution_count": null,
      "outputs": []
    },
    {
      "cell_type": "code",
      "source": [
        "import torch\n",
        "import torch.nn as nn\n",
        "import torch.optim as optim\n",
        "from torch.optim.lr_scheduler import ExponentialLR\n",
        "from tqdm import tqdm\n",
        "\n",
        "device = torch.device(\"cuda\" if torch.cuda.is_available() else \"cpu\")\n",
        "\n",
        "num_epochs = 25\n",
        "model = TrafficForecastingModel().to(device)\n",
        "model.load_state_dict(torch.load(\"GCNLSTMTrained.pt\")) # for loading in saved models\n",
        "criterion = nn.MSELoss()\n",
        "# Adam with L2 regularization\n",
        "optimizer = torch.optim.Adam(model.parameters(), lr=0.005, weight_decay=1e-5)\n",
        "scheduler = ExponentialLR(optimizer, gamma=0.95)\n",
        "\n",
        "train_history = {\n",
        "    \"loss\": [],\n",
        "    \"mae\": [],\n",
        "    \"rmse\": [],\n",
        "    \"mape\": [],\n",
        "}\n",
        "\n",
        "val_history = {\n",
        "    \"loss\": [],\n",
        "    \"mae\": [],\n",
        "    \"rmse\": [],\n",
        "    \"mape\": [],\n",
        "}\n",
        "\n",
        "print(model)"
      ],
      "metadata": {
        "colab": {
          "base_uri": "https://localhost:8080/"
        },
        "id": "xkCn1YelYfmf",
        "outputId": "810f9b46-0f8d-4774-cbe0-9e8f940f5410"
      },
      "execution_count": null,
      "outputs": [
        {
          "output_type": "stream",
          "name": "stdout",
          "text": [
            "TrafficForecastingModel(\n",
            "  (gcn1): GCNConv(1, 32)\n",
            "  (relu1): ReLU()\n",
            "  (gcn2): GCNConv(32, 64)\n",
            "  (dropout): Dropout(p=0.2, inplace=False)\n",
            "  (relu2): ReLU()\n",
            "  (gcn3): GCNConv(64, 64)\n",
            "  (relu3): ReLU()\n",
            "  (lstm): LSTM(64, 128, num_layers=4, batch_first=True, dropout=0.2)\n",
            "  (fc): Linear(in_features=128, out_features=3, bias=True)\n",
            ")\n"
          ]
        }
      ]
    },
    {
      "cell_type": "code",
      "source": [
        "def compute_metrics(preds, targets, inverser_scale=True):\n",
        "\n",
        "  with torch.no_grad():\n",
        "        preds_batch_size = preds.shape[0]\n",
        "\n",
        "        # preds and targets shape: (batch, num_nodes, horizon)\n",
        "        # reshape to 2D (batch, features) for the scaler\n",
        "        # transpose() is like permute()\n",
        "        preds_np = preds.cpu().numpy().transpose(0, 2, 1).reshape(-1, 3 * 207)\n",
        "        targets_np = targets.cpu().numpy().transpose(0, 2, 1).reshape(-1, 3 * 207)\n",
        "\n",
        "        # inverse transform using fitted y_scaler\n",
        "        preds_inv = y_scaler.inverse_transform(preds_np).reshape(-1, 3, 207).transpose(0, 2, 1)\n",
        "        targets_inv = y_scaler.inverse_transform(targets_np).reshape(-1, 3, 207).transpose(0, 2, 1)\n",
        "\n",
        "        mae  = np.mean(np.abs(preds_inv - targets_inv)) * preds_batch_size\n",
        "        rmse = np.sqrt(np.mean((preds_inv - targets_inv)**2)) * preds_batch_size\n",
        "        mape = np.mean(np.abs((preds_inv - targets_inv) / (targets_inv + 1e-5))) * 100 * preds_batch_size\n",
        "\n",
        "        return mae, rmse, mape, preds_batch_size\n"
      ],
      "metadata": {
        "id": "M5x82B0YPOQ2"
      },
      "execution_count": null,
      "outputs": []
    },
    {
      "cell_type": "markdown",
      "source": [
        "Training loop"
      ],
      "metadata": {
        "id": "qg1CUdrX7F8J"
      }
    },
    {
      "cell_type": "code",
      "source": [
        "from torch_geometric.data import Batch\n",
        "\n",
        "# training loop\n",
        "for epoch in range(num_epochs):\n",
        "    model.train()\n",
        "    train_mae = 0\n",
        "    train_rmse = 0\n",
        "    train_mape = 0\n",
        "    train_samples = 0\n",
        "    train_loss = 0\n",
        "\n",
        "    # visualizes a loading bar while batching train loader\n",
        "    training_loader_bar = tqdm(train_loader, desc=f\"Epoch {epoch+1}/{num_epochs} [Train]\", leave=True)\n",
        "\n",
        "    for data_batch, target_batch in training_loader_bar:\n",
        "        # recall: data_batch is a list of 128 sequences of 12 Data objs\n",
        "        # we flatten all graphs across batch and time: (batch_size * seq_len)\n",
        "        # in this case (128 * 12)\n",
        "        all_graphs = [] # final list will have (128 * 12) Data objs\n",
        "        for x_seq in data_batch:\n",
        "            all_graphs.extend(x_seq)\n",
        "\n",
        "        # move all data objects to device for gpu usage\n",
        "        for g in all_graphs:\n",
        "            g.x = g.x.to(device)\n",
        "            g.edge_index = g.edge_index.to(device)\n",
        "            g.edge_attr = g.edge_attr.to(device)\n",
        "\n",
        "        # create a single mega-batch from all_graphs\n",
        "        # GCN will expect all nodes in a single tensor\n",
        "        # after stacking, final shape of x will be (128 * 12 * 207, 1)\n",
        "        batched_graphs = Batch.from_data_list(all_graphs)\n",
        "\n",
        "        # forward pass once for the full batch\n",
        "        preds = model(batched_graphs, batch_size=len(data_batch))  # output: (128, 207, 3)\n",
        "\n",
        "        # permute target because it is currently formatted as (batch, timesteps, num sensors)\n",
        "        targets = target_batch.permute(0, 2, 1).to(device)  # (128, 207, 3)\n",
        "        loss = criterion(preds, targets)\n",
        "\n",
        "        optimizer.zero_grad() # clears old gradients before backprop\n",
        "        loss.backward() # computes new gradients via backprop\n",
        "        optimizer.step() # updates weights using those gradients\n",
        "\n",
        "        train_loss += loss.item()\n",
        "\n",
        "        with torch.no_grad():\n",
        "            mae, rmse, mape, preds_batch_size = compute_metrics(preds, targets)\n",
        "\n",
        "            train_mae += mae\n",
        "            train_rmse += rmse\n",
        "            train_mape += mape\n",
        "\n",
        "            train_samples += preds_batch_size\n",
        "\n",
        "    # Validation loop (same logic)\n",
        "    model.eval()\n",
        "    val_mae = 0\n",
        "    val_rmse = 0\n",
        "    val_mape = 0\n",
        "    val_samples = 0\n",
        "    val_loss = 0\n",
        "\n",
        "    with torch.no_grad():\n",
        "        val_loader_bar = tqdm(val_loader, desc=f\"Epoch {epoch+1}/{num_epochs} [Val]\", leave=True)\n",
        "\n",
        "        for data_batch, target_batch in val_loader_bar:\n",
        "            all_graphs = []\n",
        "            for x_seq in data_batch:\n",
        "                all_graphs.extend(x_seq)\n",
        "\n",
        "            for g in all_graphs:\n",
        "                g.x = g.x.to(device)\n",
        "                g.edge_index = g.edge_index.to(device)\n",
        "                g.edge_attr = g.edge_attr.to(device)\n",
        "\n",
        "            batched_graphs = Batch.from_data_list(all_graphs)\n",
        "            preds = model(batched_graphs, batch_size=len(data_batch))\n",
        "            targets = target_batch.permute(0, 2, 1).to(device)\n",
        "\n",
        "            loss = criterion(preds, targets)\n",
        "            val_loss += loss.item()\n",
        "\n",
        "            with torch.no_grad():\n",
        "                mae, rmse, mape, preds_batch_size = compute_metrics(preds, targets)\n",
        "\n",
        "                val_mae += mae\n",
        "                val_rmse += rmse\n",
        "                val_mape += mape\n",
        "\n",
        "                val_samples += preds_batch_size\n",
        "\n",
        "\n",
        "    avg_train_loss = train_loss / len(train_loader)\n",
        "    avg_val_loss = val_loss / len(val_loader)\n",
        "\n",
        "    train_history['loss'].append(avg_train_loss)\n",
        "    train_history['mae'].append(train_mae / train_samples)\n",
        "    train_history['rmse'].append(train_rmse / train_samples)\n",
        "    train_history['mape'].append(train_mape / train_samples)\n",
        "\n",
        "    val_history['loss'].append(avg_val_loss)\n",
        "    val_history['mae'].append(val_mae / val_samples)\n",
        "    val_history['rmse'].append(val_rmse / val_samples)\n",
        "    val_history['mape'].append(val_mape / val_samples)\n",
        "\n",
        "    scheduler.step()\n",
        "\n",
        "    print()\n",
        "    print(f\"Epoch {epoch+1}/{num_epochs} - Train Loss: {avg_train_loss:.4f} - Val Loss: {avg_val_loss:.4f}\")\n",
        "    print(f\"Train MAE: {train_mae / train_samples:.4f} - Train RMSE: {train_rmse / train_samples:.4f} - Train MAPE: {train_mape / train_samples:.4f}\")\n",
        "    print(f\"Val MAE: {val_mae / val_samples:.4f} - Val RMSE: {val_rmse / val_samples:.4f} - Val MAPE: {val_mape / val_samples:.4f}\")\n",
        "    print()"
      ],
      "metadata": {
        "colab": {
          "base_uri": "https://localhost:8080/"
        },
        "id": "0UvxPRTxbLo0",
        "outputId": "6bc650ce-f2ee-46c6-d2c9-9b93c214d7dc"
      },
      "execution_count": null,
      "outputs": [
        {
          "output_type": "stream",
          "name": "stderr",
          "text": [
            "Epoch 1/25 [Train]: 100%|██████████| 215/215 [01:36<00:00,  2.23it/s]\n",
            "Epoch 1/25 [Val]: 100%|██████████| 27/27 [00:09<00:00,  2.72it/s]\n"
          ]
        },
        {
          "output_type": "stream",
          "name": "stdout",
          "text": [
            "\n",
            "Epoch 1/25 - Train Loss: 0.5130 - Val Loss: 0.5055\n",
            "Train MAE: 4.4847 - Train RMSE: 7.4256 - Train MAPE: 12.5897\n",
            "Val MAE: 4.4128 - Val RMSE: 7.2088 - Val MAPE: 12.9568\n",
            "\n"
          ]
        },
        {
          "output_type": "stream",
          "name": "stderr",
          "text": [
            "Epoch 2/25 [Train]: 100%|██████████| 215/215 [01:36<00:00,  2.22it/s]\n",
            "Epoch 2/25 [Val]: 100%|██████████| 27/27 [00:10<00:00,  2.67it/s]\n"
          ]
        },
        {
          "output_type": "stream",
          "name": "stdout",
          "text": [
            "\n",
            "Epoch 2/25 - Train Loss: 0.4716 - Val Loss: 0.5020\n",
            "Train MAE: 4.2456 - Train RMSE: 7.0736 - Train MAPE: 11.7305\n",
            "Val MAE: 4.5636 - Val RMSE: 7.1624 - Val MAPE: 13.0966\n",
            "\n"
          ]
        },
        {
          "output_type": "stream",
          "name": "stderr",
          "text": [
            "Epoch 3/25 [Train]: 100%|██████████| 215/215 [01:36<00:00,  2.23it/s]\n",
            "Epoch 3/25 [Val]: 100%|██████████| 27/27 [00:09<00:00,  2.73it/s]\n"
          ]
        },
        {
          "output_type": "stream",
          "name": "stdout",
          "text": [
            "\n",
            "Epoch 3/25 - Train Loss: 0.4643 - Val Loss: 0.5030\n",
            "Train MAE: 4.2133 - Train RMSE: 7.0253 - Train MAPE: 11.6182\n",
            "Val MAE: 4.4585 - Val RMSE: 7.1768 - Val MAPE: 13.4432\n",
            "\n"
          ]
        },
        {
          "output_type": "stream",
          "name": "stderr",
          "text": [
            "Epoch 4/25 [Train]: 100%|██████████| 215/215 [01:36<00:00,  2.23it/s]\n",
            "Epoch 4/25 [Val]: 100%|██████████| 27/27 [00:09<00:00,  2.71it/s]\n"
          ]
        },
        {
          "output_type": "stream",
          "name": "stdout",
          "text": [
            "\n",
            "Epoch 4/25 - Train Loss: 0.4546 - Val Loss: 0.4809\n",
            "Train MAE: 4.1444 - Train RMSE: 6.9369 - Train MAPE: 11.3970\n",
            "Val MAE: 4.3060 - Val RMSE: 7.0361 - Val MAPE: 12.5249\n",
            "\n"
          ]
        },
        {
          "output_type": "stream",
          "name": "stderr",
          "text": [
            "Epoch 5/25 [Train]: 100%|██████████| 215/215 [01:36<00:00,  2.23it/s]\n",
            "Epoch 5/25 [Val]: 100%|██████████| 27/27 [00:10<00:00,  2.70it/s]\n"
          ]
        },
        {
          "output_type": "stream",
          "name": "stdout",
          "text": [
            "\n",
            "Epoch 5/25 - Train Loss: 0.4462 - Val Loss: 0.4748\n",
            "Train MAE: 4.0878 - Train RMSE: 6.8598 - Train MAPE: 11.2249\n",
            "Val MAE: 4.3114 - Val RMSE: 6.8897 - Val MAPE: 12.3319\n",
            "\n"
          ]
        },
        {
          "output_type": "stream",
          "name": "stderr",
          "text": [
            "Epoch 6/25 [Train]: 100%|██████████| 215/215 [01:36<00:00,  2.23it/s]\n",
            "Epoch 6/25 [Val]: 100%|██████████| 27/27 [00:09<00:00,  2.72it/s]\n"
          ]
        },
        {
          "output_type": "stream",
          "name": "stdout",
          "text": [
            "\n",
            "Epoch 6/25 - Train Loss: 0.4387 - Val Loss: 0.4734\n",
            "Train MAE: 4.0539 - Train RMSE: 6.7988 - Train MAPE: 11.0977\n",
            "Val MAE: 4.2557 - Val RMSE: 6.9018 - Val MAPE: 12.6452\n",
            "\n"
          ]
        },
        {
          "output_type": "stream",
          "name": "stderr",
          "text": [
            "Epoch 7/25 [Train]: 100%|██████████| 215/215 [01:36<00:00,  2.22it/s]\n",
            "Epoch 7/25 [Val]: 100%|██████████| 27/27 [00:09<00:00,  2.70it/s]\n"
          ]
        },
        {
          "output_type": "stream",
          "name": "stdout",
          "text": [
            "\n",
            "Epoch 7/25 - Train Loss: 0.4342 - Val Loss: 0.4941\n",
            "Train MAE: 4.0220 - Train RMSE: 6.7552 - Train MAPE: 10.9998\n",
            "Val MAE: 4.3579 - Val RMSE: 7.1831 - Val MAPE: 13.5487\n",
            "\n"
          ]
        },
        {
          "output_type": "stream",
          "name": "stderr",
          "text": [
            "Epoch 8/25 [Train]: 100%|██████████| 215/215 [01:37<00:00,  2.21it/s]\n",
            "Epoch 8/25 [Val]: 100%|██████████| 27/27 [00:10<00:00,  2.68it/s]\n"
          ]
        },
        {
          "output_type": "stream",
          "name": "stdout",
          "text": [
            "\n",
            "Epoch 8/25 - Train Loss: 0.4250 - Val Loss: 0.4887\n",
            "Train MAE: 3.9728 - Train RMSE: 6.6728 - Train MAPE: 10.8425\n",
            "Val MAE: 4.3448 - Val RMSE: 7.0157 - Val MAPE: 11.7078\n",
            "\n"
          ]
        },
        {
          "output_type": "stream",
          "name": "stderr",
          "text": [
            "Epoch 9/25 [Train]: 100%|██████████| 215/215 [01:37<00:00,  2.21it/s]\n",
            "Epoch 9/25 [Val]: 100%|██████████| 27/27 [00:09<00:00,  2.71it/s]\n"
          ]
        },
        {
          "output_type": "stream",
          "name": "stdout",
          "text": [
            "\n",
            "Epoch 9/25 - Train Loss: 0.4263 - Val Loss: 0.4556\n",
            "Train MAE: 3.9805 - Train RMSE: 6.6804 - Train MAPE: 10.8566\n",
            "Val MAE: 4.0992 - Val RMSE: 6.7519 - Val MAPE: 12.1167\n",
            "\n"
          ]
        },
        {
          "output_type": "stream",
          "name": "stderr",
          "text": [
            "Epoch 10/25 [Train]: 100%|██████████| 215/215 [01:36<00:00,  2.22it/s]\n",
            "Epoch 10/25 [Val]: 100%|██████████| 27/27 [00:09<00:00,  2.72it/s]\n"
          ]
        },
        {
          "output_type": "stream",
          "name": "stdout",
          "text": [
            "\n",
            "Epoch 10/25 - Train Loss: 0.4148 - Val Loss: 0.4726\n",
            "Train MAE: 3.9171 - Train RMSE: 6.5708 - Train MAPE: 10.6461\n",
            "Val MAE: 4.1687 - Val RMSE: 6.9466 - Val MAPE: 12.8689\n",
            "\n"
          ]
        },
        {
          "output_type": "stream",
          "name": "stderr",
          "text": [
            "Epoch 11/25 [Train]: 100%|██████████| 215/215 [01:36<00:00,  2.22it/s]\n",
            "Epoch 11/25 [Val]: 100%|██████████| 27/27 [00:09<00:00,  2.70it/s]\n"
          ]
        },
        {
          "output_type": "stream",
          "name": "stdout",
          "text": [
            "\n",
            "Epoch 11/25 - Train Loss: 0.4097 - Val Loss: 0.4432\n",
            "Train MAE: 3.8810 - Train RMSE: 6.5169 - Train MAPE: 10.5288\n",
            "Val MAE: 4.0381 - Val RMSE: 6.6980 - Val MAPE: 11.8902\n",
            "\n"
          ]
        },
        {
          "output_type": "stream",
          "name": "stderr",
          "text": [
            "Epoch 12/25 [Train]: 100%|██████████| 215/215 [01:36<00:00,  2.22it/s]\n",
            "Epoch 12/25 [Val]: 100%|██████████| 27/27 [00:09<00:00,  2.72it/s]\n"
          ]
        },
        {
          "output_type": "stream",
          "name": "stdout",
          "text": [
            "\n",
            "Epoch 12/25 - Train Loss: 0.4060 - Val Loss: 0.4796\n",
            "Train MAE: 3.8630 - Train RMSE: 6.4777 - Train MAPE: 10.4628\n",
            "Val MAE: 4.1784 - Val RMSE: 6.9218 - Val MAPE: 13.0068\n",
            "\n"
          ]
        },
        {
          "output_type": "stream",
          "name": "stderr",
          "text": [
            "Epoch 13/25 [Train]: 100%|██████████| 215/215 [01:36<00:00,  2.22it/s]\n",
            "Epoch 13/25 [Val]: 100%|██████████| 27/27 [00:10<00:00,  2.69it/s]\n"
          ]
        },
        {
          "output_type": "stream",
          "name": "stdout",
          "text": [
            "\n",
            "Epoch 13/25 - Train Loss: 0.4022 - Val Loss: 0.4422\n",
            "Train MAE: 3.8436 - Train RMSE: 6.4437 - Train MAPE: 10.3917\n",
            "Val MAE: 3.9831 - Val RMSE: 6.6611 - Val MAPE: 11.8818\n",
            "\n"
          ]
        },
        {
          "output_type": "stream",
          "name": "stderr",
          "text": [
            "Epoch 14/25 [Train]: 100%|██████████| 215/215 [01:37<00:00,  2.21it/s]\n",
            "Epoch 14/25 [Val]: 100%|██████████| 27/27 [00:10<00:00,  2.68it/s]\n"
          ]
        },
        {
          "output_type": "stream",
          "name": "stdout",
          "text": [
            "\n",
            "Epoch 14/25 - Train Loss: 0.3992 - Val Loss: 0.4395\n",
            "Train MAE: 3.8230 - Train RMSE: 6.4077 - Train MAPE: 10.3172\n",
            "Val MAE: 4.0803 - Val RMSE: 6.6537 - Val MAPE: 11.9855\n",
            "\n"
          ]
        },
        {
          "output_type": "stream",
          "name": "stderr",
          "text": [
            "Epoch 15/25 [Train]: 100%|██████████| 215/215 [01:37<00:00,  2.20it/s]\n",
            "Epoch 15/25 [Val]: 100%|██████████| 27/27 [00:10<00:00,  2.65it/s]\n"
          ]
        },
        {
          "output_type": "stream",
          "name": "stdout",
          "text": [
            "\n",
            "Epoch 15/25 - Train Loss: 0.3983 - Val Loss: 0.4326\n",
            "Train MAE: 3.8198 - Train RMSE: 6.4019 - Train MAPE: 10.3073\n",
            "Val MAE: 3.9722 - Val RMSE: 6.5635 - Val MAPE: 11.7193\n",
            "\n"
          ]
        },
        {
          "output_type": "stream",
          "name": "stderr",
          "text": [
            "Epoch 16/25 [Train]: 100%|██████████| 215/215 [01:37<00:00,  2.21it/s]\n",
            "Epoch 16/25 [Val]: 100%|██████████| 27/27 [00:09<00:00,  2.71it/s]\n"
          ]
        },
        {
          "output_type": "stream",
          "name": "stdout",
          "text": [
            "\n",
            "Epoch 16/25 - Train Loss: 0.3932 - Val Loss: 0.4283\n",
            "Train MAE: 3.7898 - Train RMSE: 6.3519 - Train MAPE: 10.1989\n",
            "Val MAE: 3.9449 - Val RMSE: 6.5632 - Val MAPE: 11.4159\n",
            "\n"
          ]
        },
        {
          "output_type": "stream",
          "name": "stderr",
          "text": [
            "Epoch 17/25 [Train]: 100%|██████████| 215/215 [01:37<00:00,  2.22it/s]\n",
            "Epoch 17/25 [Val]: 100%|██████████| 27/27 [00:10<00:00,  2.69it/s]\n"
          ]
        },
        {
          "output_type": "stream",
          "name": "stdout",
          "text": [
            "\n",
            "Epoch 17/25 - Train Loss: 0.3903 - Val Loss: 0.4358\n",
            "Train MAE: 3.7784 - Train RMSE: 6.3321 - Train MAPE: 10.1587\n",
            "Val MAE: 3.9352 - Val RMSE: 6.6620 - Val MAPE: 11.6409\n",
            "\n"
          ]
        },
        {
          "output_type": "stream",
          "name": "stderr",
          "text": [
            "Epoch 18/25 [Train]: 100%|██████████| 215/215 [01:36<00:00,  2.22it/s]\n",
            "Epoch 18/25 [Val]: 100%|██████████| 27/27 [00:10<00:00,  2.68it/s]\n"
          ]
        },
        {
          "output_type": "stream",
          "name": "stdout",
          "text": [
            "\n",
            "Epoch 18/25 - Train Loss: 0.3901 - Val Loss: 0.4392\n",
            "Train MAE: 3.7739 - Train RMSE: 6.3220 - Train MAPE: 10.1387\n",
            "Val MAE: 3.9635 - Val RMSE: 6.6103 - Val MAPE: 11.9365\n",
            "\n"
          ]
        },
        {
          "output_type": "stream",
          "name": "stderr",
          "text": [
            "Epoch 19/25 [Train]: 100%|██████████| 215/215 [01:37<00:00,  2.22it/s]\n",
            "Epoch 19/25 [Val]: 100%|██████████| 27/27 [00:09<00:00,  2.71it/s]\n"
          ]
        },
        {
          "output_type": "stream",
          "name": "stdout",
          "text": [
            "\n",
            "Epoch 19/25 - Train Loss: 0.3874 - Val Loss: 0.4383\n",
            "Train MAE: 3.7536 - Train RMSE: 6.2937 - Train MAPE: 10.0743\n",
            "Val MAE: 4.0738 - Val RMSE: 6.6727 - Val MAPE: 11.5680\n",
            "\n"
          ]
        },
        {
          "output_type": "stream",
          "name": "stderr",
          "text": [
            "Epoch 20/25 [Train]: 100%|██████████| 215/215 [01:37<00:00,  2.21it/s]\n",
            "Epoch 20/25 [Val]: 100%|██████████| 27/27 [00:10<00:00,  2.68it/s]\n"
          ]
        },
        {
          "output_type": "stream",
          "name": "stdout",
          "text": [
            "\n",
            "Epoch 20/25 - Train Loss: 0.3852 - Val Loss: 0.4432\n",
            "Train MAE: 3.7485 - Train RMSE: 6.2785 - Train MAPE: 10.0437\n",
            "Val MAE: 3.9944 - Val RMSE: 6.6191 - Val MAPE: 11.9375\n",
            "\n"
          ]
        },
        {
          "output_type": "stream",
          "name": "stderr",
          "text": [
            "Epoch 21/25 [Train]: 100%|██████████| 215/215 [01:37<00:00,  2.20it/s]\n",
            "Epoch 21/25 [Val]: 100%|██████████| 27/27 [00:10<00:00,  2.67it/s]\n"
          ]
        },
        {
          "output_type": "stream",
          "name": "stdout",
          "text": [
            "\n",
            "Epoch 21/25 - Train Loss: 0.3827 - Val Loss: 0.4590\n",
            "Train MAE: 3.7297 - Train RMSE: 6.2508 - Train MAPE: 9.9845\n",
            "Val MAE: 4.0552 - Val RMSE: 6.7831 - Val MAPE: 12.4736\n",
            "\n"
          ]
        },
        {
          "output_type": "stream",
          "name": "stderr",
          "text": [
            "Epoch 22/25 [Train]: 100%|██████████| 215/215 [01:36<00:00,  2.22it/s]\n",
            "Epoch 22/25 [Val]: 100%|██████████| 27/27 [00:10<00:00,  2.70it/s]\n"
          ]
        },
        {
          "output_type": "stream",
          "name": "stdout",
          "text": [
            "\n",
            "Epoch 22/25 - Train Loss: 0.3812 - Val Loss: 0.4357\n",
            "Train MAE: 3.7236 - Train RMSE: 6.2395 - Train MAPE: 9.9593\n",
            "Val MAE: 3.8955 - Val RMSE: 6.5141 - Val MAPE: 11.4585\n",
            "\n"
          ]
        },
        {
          "output_type": "stream",
          "name": "stderr",
          "text": [
            "Epoch 23/25 [Train]: 100%|██████████| 215/215 [01:36<00:00,  2.22it/s]\n",
            "Epoch 23/25 [Val]: 100%|██████████| 27/27 [00:10<00:00,  2.68it/s]\n"
          ]
        },
        {
          "output_type": "stream",
          "name": "stdout",
          "text": [
            "\n",
            "Epoch 23/25 - Train Loss: 0.3806 - Val Loss: 0.4422\n",
            "Train MAE: 3.7191 - Train RMSE: 6.2325 - Train MAPE: 9.9391\n",
            "Val MAE: 3.9705 - Val RMSE: 6.5948 - Val MAPE: 12.0200\n",
            "\n"
          ]
        },
        {
          "output_type": "stream",
          "name": "stderr",
          "text": [
            "Epoch 24/25 [Train]: 100%|██████████| 215/215 [01:36<00:00,  2.23it/s]\n",
            "Epoch 24/25 [Val]: 100%|██████████| 27/27 [00:10<00:00,  2.70it/s]\n"
          ]
        },
        {
          "output_type": "stream",
          "name": "stdout",
          "text": [
            "\n",
            "Epoch 24/25 - Train Loss: 0.3781 - Val Loss: 0.4205\n",
            "Train MAE: 3.7040 - Train RMSE: 6.2071 - Train MAPE: 9.8948\n",
            "Val MAE: 3.8723 - Val RMSE: 6.4462 - Val MAPE: 11.3859\n",
            "\n"
          ]
        },
        {
          "output_type": "stream",
          "name": "stderr",
          "text": [
            "Epoch 25/25 [Train]: 100%|██████████| 215/215 [01:37<00:00,  2.20it/s]\n",
            "Epoch 25/25 [Val]: 100%|██████████| 27/27 [00:10<00:00,  2.66it/s]"
          ]
        },
        {
          "output_type": "stream",
          "name": "stdout",
          "text": [
            "\n",
            "Epoch 25/25 - Train Loss: 0.3768 - Val Loss: 0.4218\n",
            "Train MAE: 3.7010 - Train RMSE: 6.1992 - Train MAPE: 9.8698\n",
            "Val MAE: 3.8570 - Val RMSE: 6.4290 - Val MAPE: 11.1674\n",
            "\n"
          ]
        },
        {
          "output_type": "stream",
          "name": "stderr",
          "text": [
            "\n"
          ]
        }
      ]
    },
    {
      "cell_type": "markdown",
      "source": [
        "Training/validiation histories. (ignore key on top right)"
      ],
      "metadata": {
        "id": "PQHMb6K97I0S"
      }
    },
    {
      "cell_type": "code",
      "source": [
        "plt.plot(train_history['loss'], label='Train Loss')\n",
        "plt.plot(val_history['loss'], label='Validation Loss')\n",
        "plt.xlabel('Epoch')\n",
        "plt.ylabel('Loss')\n",
        "plt.legend()\n",
        "plt.show()"
      ],
      "metadata": {
        "id": "ENvncfeAnfK3",
        "colab": {
          "base_uri": "https://localhost:8080/",
          "height": 449
        },
        "outputId": "e6110756-53de-480e-b6dc-eb712c62656f"
      },
      "execution_count": null,
      "outputs": [
        {
          "output_type": "display_data",
          "data": {
            "text/plain": [
              "<Figure size 640x480 with 1 Axes>"
            ],
            "image/png": "[encoded data removed]"
          },
          "metadata": {}
        }
      ]
    },
    {
      "cell_type": "code",
      "source": [
        "plt.plot(train_history['mae'], label='Train MAE')\n",
        "plt.plot(val_history['mae'], label='Validation MAE')\n",
        "plt.xlabel('Epoch')\n",
        "plt.ylabel('Mean Absolute Error')\n",
        "plt.legend()\n",
        "plt.show()"
      ],
      "metadata": {
        "colab": {
          "base_uri": "https://localhost:8080/",
          "height": 452
        },
        "id": "rVV2Kv2MTFuJ",
        "outputId": "33231457-c2a5-4bdb-d8a1-1d3477e3d82b"
      },
      "execution_count": null,
      "outputs": [
        {
          "output_type": "display_data",
          "data": {
            "text/plain": [
              "<Figure size 640x480 with 1 Axes>"
            ],
            "image/png": "[encoded data removed]"
          },
          "metadata": {}
        }
      ]
    },
    {
      "cell_type": "code",
      "source": [
        "plt.plot(train_history['rmse'], label='Train RMSE')\n",
        "plt.plot(val_history['rmse'], label='Validation RMSE')\n",
        "plt.xlabel('Epoch')\n",
        "plt.ylabel('Root Mean Square Error')\n",
        "plt.legend()\n",
        "plt.show()"
      ],
      "metadata": {
        "colab": {
          "base_uri": "https://localhost:8080/",
          "height": 449
        },
        "id": "tPhnLqwATKGV",
        "outputId": "4ff8ec8b-b2c6-47e7-b429-856683226688"
      },
      "execution_count": null,
      "outputs": [
        {
          "output_type": "display_data",
          "data": {
            "text/plain": [
              "<Figure size 640x480 with 1 Axes>"
            ],
            "image/png": "[encoded data removed]"
          },
          "metadata": {}
        }
      ]
    },
    {
      "cell_type": "code",
      "source": [
        "plt.plot(train_history['mape'], label='Train MAPE')\n",
        "plt.plot(val_history['mape'], label='Validation MAPE')\n",
        "plt.xlabel('Epoch')\n",
        "plt.ylabel('Mean Absolute Percentage Error')\n",
        "plt.legend()\n",
        "plt.show()"
      ],
      "metadata": {
        "colab": {
          "base_uri": "https://localhost:8080/",
          "height": 449
        },
        "id": "TmFZKKOFTRqd",
        "outputId": "0c7ac9ff-9e9d-4caf-8397-2f959f0782b6"
      },
      "execution_count": null,
      "outputs": [
        {
          "output_type": "display_data",
          "data": {
            "text/plain": [
              "<Figure size 640x480 with 1 Axes>"
            ],
            "image/png": "[encoded data removed]"
          },
          "metadata": {}
        }
      ]
    },
    {
      "cell_type": "markdown",
      "source": [
        "Saving model"
      ],
      "metadata": {
        "id": "TrcddsmE7Qe3"
      }
    },
    {
      "cell_type": "code",
      "source": [
        "torch.save(model.state_dict(), \"model.pt\")"
      ],
      "metadata": {
        "id": "on1QZLhyHue0"
      },
      "execution_count": null,
      "outputs": []
    },
    {
      "cell_type": "markdown",
      "source": [
        "# Testing model performance"
      ],
      "metadata": {
        "id": "idnGQvDp7Rui"
      }
    },
    {
      "cell_type": "code",
      "source": [
        "def test_metrics(test_loader):\n",
        "  model.eval()\n",
        "\n",
        "  total_mae = 0\n",
        "  total_rmse = 0\n",
        "  total_mape = 0\n",
        "  samples = 0\n",
        "\n",
        "  with torch.no_grad():\n",
        "    test_loader_bar = tqdm(test_loader, desc=f\"Processing batch...\", leave=True)\n",
        "    for data_batch, target_batch in test_loader_bar:\n",
        "      all_graphs = []\n",
        "      for x_seq in data_batch:\n",
        "        all_graphs.extend(x_seq)\n",
        "\n",
        "      for g in all_graphs:\n",
        "        g.x = g.x.to(device)\n",
        "        g.edge_index = g.edge_index.to(device)\n",
        "        g.edge_attr = g.edge_attr.to(device)\n",
        "\n",
        "      batched_graphs = Batch.from_data_list(all_graphs)\n",
        "      preds = model(batched_graphs, batch_size=len(data_batch))\n",
        "      targets = target_batch.permute(0, 2, 1).to(device)\n",
        "\n",
        "      mae, rmse, mape, preds_batch_size = compute_metrics(preds, targets)\n",
        "\n",
        "      total_mae += mae\n",
        "      total_rmse += rmse\n",
        "      total_mape += mape\n",
        "\n",
        "      samples += preds_batch_size\n",
        "\n",
        "    return total_mae / samples, total_rmse / samples, total_mape / samples\n",
        "\n",
        "mae, rmse, mape = test_metrics(test_loader)\n",
        "print()\n",
        "print(f\"MAE: {mae:.4f}\")\n",
        "print(f\"RMSE: {rmse:.4f}\")\n",
        "print(f\"MAPE: {mape:.4f}\")"
      ],
      "metadata": {
        "id": "qnLBybL6AKdJ",
        "colab": {
          "base_uri": "https://localhost:8080/"
        },
        "outputId": "875bc861-64e7-47ad-959e-b559744ccb21"
      },
      "execution_count": null,
      "outputs": [
        {
          "output_type": "stream",
          "name": "stderr",
          "text": [
            "Processing batch...: 100%|██████████| 27/27 [00:22<00:00,  1.22it/s]"
          ]
        },
        {
          "output_type": "stream",
          "name": "stdout",
          "text": [
            "\n",
            "MAE: 3.8531\n",
            "RMSE: 6.6891\n",
            "MAPE: 10.7387\n"
          ]
        },
        {
          "output_type": "stream",
          "name": "stderr",
          "text": [
            "\n"
          ]
        }
      ]
    }
  ]
}